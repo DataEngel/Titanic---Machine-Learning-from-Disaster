{
 "cells": [
  {
   "cell_type": "markdown",
   "metadata": {
    "papermill": {
     "duration": 0.010831,
     "end_time": "2021-04-10T00:15:58.834454",
     "exception": false,
     "start_time": "2021-04-10T00:15:58.823623",
     "status": "completed"
    },
    "tags": []
   },
   "source": [
    "# Data Analysis"
   ]
  },
  {
   "cell_type": "code",
   "execution_count": 1,
   "metadata": {
    "execution": {
     "iopub.execute_input": "2021-04-10T00:15:58.859956Z",
     "iopub.status.busy": "2021-04-10T00:15:58.859291Z",
     "iopub.status.idle": "2021-04-10T00:15:58.862799Z",
     "shell.execute_reply": "2021-04-10T00:15:58.862120Z"
    },
    "papermill": {
     "duration": 0.018699,
     "end_time": "2021-04-10T00:15:58.863004",
     "exception": false,
     "start_time": "2021-04-10T00:15:58.844305",
     "status": "completed"
    },
    "tags": []
   },
   "outputs": [],
   "source": [
    "# import libraries\n",
    "import pandas as pd\n",
    "import matplotlib.pyplot as plt\n",
    "import numpy as np"
   ]
  },
  {
   "cell_type": "code",
   "execution_count": 2,
   "metadata": {
    "execution": {
     "iopub.execute_input": "2021-04-10T00:15:58.888339Z",
     "iopub.status.busy": "2021-04-10T00:15:58.887355Z",
     "iopub.status.idle": "2021-04-10T00:15:58.920234Z",
     "shell.execute_reply": "2021-04-10T00:15:58.919532Z"
    },
    "papermill": {
     "duration": 0.047337,
     "end_time": "2021-04-10T00:15:58.920384",
     "exception": false,
     "start_time": "2021-04-10T00:15:58.873047",
     "status": "completed"
    },
    "tags": []
   },
   "outputs": [],
   "source": [
    "# Import datasets\n",
    "t_train=pd.read_csv('../input/titanic/train.csv')\n",
    "t_test=pd.read_csv('../input/titanic/test.csv')"
   ]
  },
  {
   "cell_type": "code",
   "execution_count": 3,
   "metadata": {
    "execution": {
     "iopub.execute_input": "2021-04-10T00:15:58.948524Z",
     "iopub.status.busy": "2021-04-10T00:15:58.947797Z",
     "iopub.status.idle": "2021-04-10T00:15:58.951507Z",
     "shell.execute_reply": "2021-04-10T00:15:58.950741Z"
    },
    "papermill": {
     "duration": 0.021151,
     "end_time": "2021-04-10T00:15:58.951668",
     "exception": false,
     "start_time": "2021-04-10T00:15:58.930517",
     "status": "completed"
    },
    "tags": []
   },
   "outputs": [],
   "source": [
    "# Function for grouped bar chart\n",
    "def grouped_bar_chart(labels,set1,set2):\n",
    "    x = np.arange(len(labels))  # the label locations\n",
    "    width = 0.35  # the width of the bars\n",
    "\n",
    "    fig, ax = plt.subplots()\n",
    "    rects1 = ax.bar(x - width/2, set1, width, label='Dead') # rectangles for the dead\n",
    "    rects2 = ax.bar(x + width/2, set2, width, label='Survived') # rectangles for the survived\n",
    "    \n",
    "    ax.set_ylabel('Number of people')\n",
    "    ax.set_xticks(x)\n",
    "    ax.set_xticklabels(labels)\n",
    "    ax.legend()\n",
    "\n",
    "    fig.tight_layout()\n",
    "    plt.show()"
   ]
  },
  {
   "cell_type": "code",
   "execution_count": 4,
   "metadata": {
    "execution": {
     "iopub.execute_input": "2021-04-10T00:15:59.000120Z",
     "iopub.status.busy": "2021-04-10T00:15:58.996166Z",
     "iopub.status.idle": "2021-04-10T00:15:59.324876Z",
     "shell.execute_reply": "2021-04-10T00:15:59.323471Z"
    },
    "papermill": {
     "duration": 0.363258,
     "end_time": "2021-04-10T00:15:59.325045",
     "exception": false,
     "start_time": "2021-04-10T00:15:58.961787",
     "status": "completed"
    },
    "tags": []
   },
   "outputs": [
    {
     "data": {
      "image/png": "[encoded data removed]",
      "text/plain": [
       "<Figure size 432x288 with 1 Axes>"
      ]
     },
     "metadata": {
      "needs_background": "light"
     },
     "output_type": "display_data"
    }
   ],
   "source": [
    "# grouping data by surviving and the class\n",
    "gr=t_train[['Survived','Pclass','PassengerId']].groupby(['Survived','Pclass']).count()\n",
    "gr=gr.reset_index()\n",
    "grouped_bar_chart(['1st class', '2nd class', '3rd class'],\n",
    "                  gr[gr['Survived']==0]['PassengerId'],\n",
    "                  gr[gr['Survived']==1]['PassengerId'])"
   ]
  },
  {
   "cell_type": "code",
   "execution_count": 5,
   "metadata": {
    "execution": {
     "iopub.execute_input": "2021-04-10T00:15:59.359546Z",
     "iopub.status.busy": "2021-04-10T00:15:59.358751Z",
     "iopub.status.idle": "2021-04-10T00:15:59.580644Z",
     "shell.execute_reply": "2021-04-10T00:15:59.581460Z"
    },
    "papermill": {
     "duration": 0.245136,
     "end_time": "2021-04-10T00:15:59.581663",
     "exception": false,
     "start_time": "2021-04-10T00:15:59.336527",
     "status": "completed"
    },
    "tags": []
   },
   "outputs": [
    {
     "data": {
      "image/png": "[encoded data removed]",
      "text/plain": [
       "<Figure size 432x288 with 1 Axes>"
      ]
     },
     "metadata": {
      "needs_background": "light"
     },
     "output_type": "display_data"
    }
   ],
   "source": [
    "# grouping data by surviving and the sex\n",
    "\n",
    "gr=t_train[['Survived','Sex','PassengerId']].groupby(['Survived','Sex']).count()\n",
    "gr=gr.reset_index()\n",
    "grouped_bar_chart(gr[gr['Survived']==0]['Sex'],\n",
    "                  gr[gr['Survived']==0]['PassengerId'],\n",
    "                  gr[gr['Survived']==1]['PassengerId'])"
   ]
  },
  {
   "cell_type": "code",
   "execution_count": 6,
   "metadata": {
    "execution": {
     "iopub.execute_input": "2021-04-10T00:15:59.608157Z",
     "iopub.status.busy": "2021-04-10T00:15:59.607534Z",
     "iopub.status.idle": "2021-04-10T00:15:59.627751Z",
     "shell.execute_reply": "2021-04-10T00:15:59.627000Z"
    },
    "papermill": {
     "duration": 0.034502,
     "end_time": "2021-04-10T00:15:59.627912",
     "exception": false,
     "start_time": "2021-04-10T00:15:59.593410",
     "status": "completed"
    },
    "tags": []
   },
   "outputs": [
    {
     "data": {
      "text/html": [
       "<div>\n",
       "<style scoped>\n",
       "    .dataframe tbody tr th:only-of-type {\n",
       "        vertical-align: middle;\n",
       "    }\n",
       "\n",
       "    .dataframe tbody tr th {\n",
       "        vertical-align: top;\n",
       "    }\n",
       "\n",
       "    .dataframe thead th {\n",
       "        text-align: right;\n",
       "    }\n",
       "</style>\n",
       "<table border=\"1\" class=\"dataframe\">\n",
       "  <thead>\n",
       "    <tr style=\"text-align: right;\">\n",
       "      <th></th>\n",
       "      <th></th>\n",
       "      <th>PassengerId</th>\n",
       "    </tr>\n",
       "    <tr>\n",
       "      <th>Survived</th>\n",
       "      <th>SibSp</th>\n",
       "      <th></th>\n",
       "    </tr>\n",
       "  </thead>\n",
       "  <tbody>\n",
       "    <tr>\n",
       "      <th rowspan=\"7\" valign=\"top\">0</th>\n",
       "      <th>0</th>\n",
       "      <td>398</td>\n",
       "    </tr>\n",
       "    <tr>\n",
       "      <th>1</th>\n",
       "      <td>97</td>\n",
       "    </tr>\n",
       "    <tr>\n",
       "      <th>2</th>\n",
       "      <td>15</td>\n",
       "    </tr>\n",
       "    <tr>\n",
       "      <th>3</th>\n",
       "      <td>12</td>\n",
       "    </tr>\n",
       "    <tr>\n",
       "      <th>4</th>\n",
       "      <td>15</td>\n",
       "    </tr>\n",
       "    <tr>\n",
       "      <th>5</th>\n",
       "      <td>5</td>\n",
       "    </tr>\n",
       "    <tr>\n",
       "      <th>8</th>\n",
       "      <td>7</td>\n",
       "    </tr>\n",
       "    <tr>\n",
       "      <th rowspan=\"5\" valign=\"top\">1</th>\n",
       "      <th>0</th>\n",
       "      <td>210</td>\n",
       "    </tr>\n",
       "    <tr>\n",
       "      <th>1</th>\n",
       "      <td>112</td>\n",
       "    </tr>\n",
       "    <tr>\n",
       "      <th>2</th>\n",
       "      <td>13</td>\n",
       "    </tr>\n",
       "    <tr>\n",
       "      <th>3</th>\n",
       "      <td>4</td>\n",
       "    </tr>\n",
       "    <tr>\n",
       "      <th>4</th>\n",
       "      <td>3</td>\n",
       "    </tr>\n",
       "  </tbody>\n",
       "</table>\n",
       "</div>"
      ],
      "text/plain": [
       "                PassengerId\n",
       "Survived SibSp             \n",
       "0        0              398\n",
       "         1               97\n",
       "         2               15\n",
       "         3               12\n",
       "         4               15\n",
       "         5                5\n",
       "         8                7\n",
       "1        0              210\n",
       "         1              112\n",
       "         2               13\n",
       "         3                4\n",
       "         4                3"
      ]
     },
     "execution_count": 6,
     "metadata": {},
     "output_type": "execute_result"
    }
   ],
   "source": [
    "# grouping data by surviving and the number of siblings and spouses\n",
    "\n",
    "gr=t_train[['Survived','SibSp','PassengerId']].groupby(['Survived','SibSp']).count()\n",
    "gr"
   ]
  },
  {
   "cell_type": "code",
   "execution_count": 7,
   "metadata": {
    "execution": {
     "iopub.execute_input": "2021-04-10T00:15:59.715651Z",
     "iopub.status.busy": "2021-04-10T00:15:59.664620Z",
     "iopub.status.idle": "2021-04-10T00:16:00.004652Z",
     "shell.execute_reply": "2021-04-10T00:16:00.005221Z"
    },
    "papermill": {
     "duration": 0.363736,
     "end_time": "2021-04-10T00:16:00.005525",
     "exception": false,
     "start_time": "2021-04-10T00:15:59.641789",
     "status": "completed"
    },
    "tags": []
   },
   "outputs": [
    {
     "data": {
      "image/png": "[encoded data removed]",
      "text/plain": [
       "<Figure size 432x288 with 1 Axes>"
      ]
     },
     "metadata": {
      "needs_background": "light"
     },
     "output_type": "display_data"
    }
   ],
   "source": [
    "gr=gr.reset_index()\n",
    "# The number of groups is different for survived=0 and survived=0. Therefore I add missing rows to create a plot.\n",
    "for i in range(0,2):\n",
    "    for j in range(1,9):\n",
    "        if len(gr[(gr['Survived']==i)&(gr['SibSp']==j)])==0:\n",
    "            gr=gr.append({'Survived':i,'SibSp':j,'PassengerId':0},ignore_index=True)\n",
    "gr=gr.sort_values(by=['Survived','SibSp'])\n",
    "grouped_bar_chart(gr[gr['Survived']==0]['SibSp'],\n",
    "                  gr[gr['Survived']==0]['PassengerId'],\n",
    "                  gr[gr['Survived']==1]['PassengerId'])"
   ]
  },
  {
   "cell_type": "code",
   "execution_count": 8,
   "metadata": {
    "execution": {
     "iopub.execute_input": "2021-04-10T00:16:00.045740Z",
     "iopub.status.busy": "2021-04-10T00:16:00.044551Z",
     "iopub.status.idle": "2021-04-10T00:16:00.057608Z",
     "shell.execute_reply": "2021-04-10T00:16:00.058164Z"
    },
    "papermill": {
     "duration": 0.036945,
     "end_time": "2021-04-10T00:16:00.058348",
     "exception": false,
     "start_time": "2021-04-10T00:16:00.021403",
     "status": "completed"
    },
    "tags": []
   },
   "outputs": [
    {
     "data": {
      "text/html": [
       "<div>\n",
       "<style scoped>\n",
       "    .dataframe tbody tr th:only-of-type {\n",
       "        vertical-align: middle;\n",
       "    }\n",
       "\n",
       "    .dataframe tbody tr th {\n",
       "        vertical-align: top;\n",
       "    }\n",
       "\n",
       "    .dataframe thead th {\n",
       "        text-align: right;\n",
       "    }\n",
       "</style>\n",
       "<table border=\"1\" class=\"dataframe\">\n",
       "  <thead>\n",
       "    <tr style=\"text-align: right;\">\n",
       "      <th></th>\n",
       "      <th></th>\n",
       "      <th>PassengerId</th>\n",
       "    </tr>\n",
       "    <tr>\n",
       "      <th>Survived</th>\n",
       "      <th>Parch</th>\n",
       "      <th></th>\n",
       "    </tr>\n",
       "  </thead>\n",
       "  <tbody>\n",
       "    <tr>\n",
       "      <th rowspan=\"7\" valign=\"top\">0</th>\n",
       "      <th>0</th>\n",
       "      <td>445</td>\n",
       "    </tr>\n",
       "    <tr>\n",
       "      <th>1</th>\n",
       "      <td>53</td>\n",
       "    </tr>\n",
       "    <tr>\n",
       "      <th>2</th>\n",
       "      <td>40</td>\n",
       "    </tr>\n",
       "    <tr>\n",
       "      <th>3</th>\n",
       "      <td>2</td>\n",
       "    </tr>\n",
       "    <tr>\n",
       "      <th>4</th>\n",
       "      <td>4</td>\n",
       "    </tr>\n",
       "    <tr>\n",
       "      <th>5</th>\n",
       "      <td>4</td>\n",
       "    </tr>\n",
       "    <tr>\n",
       "      <th>6</th>\n",
       "      <td>1</td>\n",
       "    </tr>\n",
       "    <tr>\n",
       "      <th rowspan=\"5\" valign=\"top\">1</th>\n",
       "      <th>0</th>\n",
       "      <td>233</td>\n",
       "    </tr>\n",
       "    <tr>\n",
       "      <th>1</th>\n",
       "      <td>65</td>\n",
       "    </tr>\n",
       "    <tr>\n",
       "      <th>2</th>\n",
       "      <td>40</td>\n",
       "    </tr>\n",
       "    <tr>\n",
       "      <th>3</th>\n",
       "      <td>3</td>\n",
       "    </tr>\n",
       "    <tr>\n",
       "      <th>5</th>\n",
       "      <td>1</td>\n",
       "    </tr>\n",
       "  </tbody>\n",
       "</table>\n",
       "</div>"
      ],
      "text/plain": [
       "                PassengerId\n",
       "Survived Parch             \n",
       "0        0              445\n",
       "         1               53\n",
       "         2               40\n",
       "         3                2\n",
       "         4                4\n",
       "         5                4\n",
       "         6                1\n",
       "1        0              233\n",
       "         1               65\n",
       "         2               40\n",
       "         3                3\n",
       "         5                1"
      ]
     },
     "execution_count": 8,
     "metadata": {},
     "output_type": "execute_result"
    }
   ],
   "source": [
    "gr=t_train[['Survived','Parch','PassengerId']].groupby(['Survived','Parch']).count()\n",
    "gr"
   ]
  },
  {
   "cell_type": "code",
   "execution_count": 9,
   "metadata": {
    "execution": {
     "iopub.execute_input": "2021-04-10T00:16:00.103731Z",
     "iopub.status.busy": "2021-04-10T00:16:00.103021Z",
     "iopub.status.idle": "2021-04-10T00:16:00.344203Z",
     "shell.execute_reply": "2021-04-10T00:16:00.344706Z"
    },
    "papermill": {
     "duration": 0.271392,
     "end_time": "2021-04-10T00:16:00.344900",
     "exception": false,
     "start_time": "2021-04-10T00:16:00.073508",
     "status": "completed"
    },
    "tags": []
   },
   "outputs": [
    {
     "data": {
      "image/png": "[encoded data removed]",
      "text/plain": [
       "<Figure size 432x288 with 1 Axes>"
      ]
     },
     "metadata": {
      "needs_background": "light"
     },
     "output_type": "display_data"
    }
   ],
   "source": [
    "gr=gr.reset_index()\n",
    "# The number of groups is different for survived=0 and survived=0. Therefore I add missing rows to create a plot.\n",
    "gr=gr.append({'Survived':1,'Parch':4,'PassengerId':0},ignore_index=True)\n",
    "gr=gr.append({'Survived':1,'Parch':6,'PassengerId':0},ignore_index=True)\n",
    "gr=gr.sort_values(by=['Survived','Parch'])\n",
    "grouped_bar_chart(gr[gr['Survived']==0]['Parch'],\n",
    "                  gr[gr['Survived']==0]['PassengerId'],\n",
    "                  gr[gr['Survived']==1]['PassengerId'])"
   ]
  },
  {
   "cell_type": "code",
   "execution_count": 10,
   "metadata": {
    "execution": {
     "iopub.execute_input": "2021-04-10T00:16:00.378751Z",
     "iopub.status.busy": "2021-04-10T00:16:00.377792Z",
     "iopub.status.idle": "2021-04-10T00:16:00.593268Z",
     "shell.execute_reply": "2021-04-10T00:16:00.593843Z"
    },
    "papermill": {
     "duration": 0.234159,
     "end_time": "2021-04-10T00:16:00.594034",
     "exception": false,
     "start_time": "2021-04-10T00:16:00.359875",
     "status": "completed"
    },
    "tags": []
   },
   "outputs": [
    {
     "data": {
      "image/png": "[encoded data removed]",
      "text/plain": [
       "<Figure size 432x288 with 1 Axes>"
      ]
     },
     "metadata": {
      "needs_background": "light"
     },
     "output_type": "display_data"
    }
   ],
   "source": [
    "gr=t_train[['Survived','Embarked','PassengerId']].groupby(['Survived','Embarked']).count()\n",
    "gr=gr.reset_index()\n",
    "grouped_bar_chart(['Cherbourg','Queenstown','Southampton'],\n",
    "                  gr[gr['Survived']==0]['PassengerId'],\n",
    "                  gr[gr['Survived']==1]['PassengerId'])"
   ]
  },
  {
   "cell_type": "code",
   "execution_count": 11,
   "metadata": {
    "execution": {
     "iopub.execute_input": "2021-04-10T00:16:00.633700Z",
     "iopub.status.busy": "2021-04-10T00:16:00.632554Z",
     "iopub.status.idle": "2021-04-10T00:16:00.643232Z",
     "shell.execute_reply": "2021-04-10T00:16:00.643737Z"
    },
    "papermill": {
     "duration": 0.032487,
     "end_time": "2021-04-10T00:16:00.643926",
     "exception": false,
     "start_time": "2021-04-10T00:16:00.611439",
     "status": "completed"
    },
    "tags": []
   },
   "outputs": [],
   "source": [
    "t_train['Title']=t_train['Name'].str.extract(r',\\s?(.+?)\\.\\s')\n",
    "t_test['Title']=t_test['Name'].str.extract(r',\\s?(.+?)\\.\\s')"
   ]
  },
  {
   "cell_type": "code",
   "execution_count": 12,
   "metadata": {
    "execution": {
     "iopub.execute_input": "2021-04-10T00:16:00.678903Z",
     "iopub.status.busy": "2021-04-10T00:16:00.678199Z",
     "iopub.status.idle": "2021-04-10T00:16:00.964887Z",
     "shell.execute_reply": "2021-04-10T00:16:00.965441Z"
    },
    "papermill": {
     "duration": 0.306077,
     "end_time": "2021-04-10T00:16:00.965630",
     "exception": false,
     "start_time": "2021-04-10T00:16:00.659553",
     "status": "completed"
    },
    "tags": []
   },
   "outputs": [
    {
     "data": {
      "image/png": "[encoded data removed]",
      "text/plain": [
       "<Figure size 432x288 with 1 Axes>"
      ]
     },
     "metadata": {
      "needs_background": "light"
     },
     "output_type": "display_data"
    }
   ],
   "source": [
    "gr=t_train[['Survived','Title','PassengerId']].groupby(['Survived','Title']).count()\n",
    "gr=gr.reset_index()\n",
    "# I only show groups with more than 3 people\n",
    "gr=gr[gr['PassengerId']>=3]\n",
    "gr=gr.append({'Survived':1,'Title':'Rev','PassengerId':0},ignore_index=True)\n",
    "grouped_bar_chart(gr[gr['Survived']==0]['Title'],\n",
    "                  gr[gr['Survived']==0]['PassengerId'],\n",
    "                  gr[gr['Survived']==1]['PassengerId'])"
   ]
  },
  {
   "cell_type": "code",
   "execution_count": 13,
   "metadata": {
    "execution": {
     "iopub.execute_input": "2021-04-10T00:16:01.002545Z",
     "iopub.status.busy": "2021-04-10T00:16:01.001821Z",
     "iopub.status.idle": "2021-04-10T00:16:01.017780Z",
     "shell.execute_reply": "2021-04-10T00:16:01.018414Z"
    },
    "papermill": {
     "duration": 0.036597,
     "end_time": "2021-04-10T00:16:01.018618",
     "exception": false,
     "start_time": "2021-04-10T00:16:00.982021",
     "status": "completed"
    },
    "tags": []
   },
   "outputs": [
    {
     "data": {
      "text/html": [
       "<div>\n",
       "<style scoped>\n",
       "    .dataframe tbody tr th:only-of-type {\n",
       "        vertical-align: middle;\n",
       "    }\n",
       "\n",
       "    .dataframe tbody tr th {\n",
       "        vertical-align: top;\n",
       "    }\n",
       "\n",
       "    .dataframe thead th {\n",
       "        text-align: right;\n",
       "    }\n",
       "</style>\n",
       "<table border=\"1\" class=\"dataframe\">\n",
       "  <thead>\n",
       "    <tr style=\"text-align: right;\">\n",
       "      <th></th>\n",
       "      <th>Fare</th>\n",
       "    </tr>\n",
       "    <tr>\n",
       "      <th>Survived</th>\n",
       "      <th></th>\n",
       "    </tr>\n",
       "  </thead>\n",
       "  <tbody>\n",
       "    <tr>\n",
       "      <th>0</th>\n",
       "      <td>10.5</td>\n",
       "    </tr>\n",
       "    <tr>\n",
       "      <th>1</th>\n",
       "      <td>26.0</td>\n",
       "    </tr>\n",
       "  </tbody>\n",
       "</table>\n",
       "</div>"
      ],
      "text/plain": [
       "          Fare\n",
       "Survived      \n",
       "0         10.5\n",
       "1         26.0"
      ]
     },
     "execution_count": 13,
     "metadata": {},
     "output_type": "execute_result"
    }
   ],
   "source": [
    "t_train[['Fare','Survived']].groupby(['Survived']).median()"
   ]
  },
  {
   "cell_type": "code",
   "execution_count": null,
   "metadata": {
    "papermill": {
     "duration": 0.016679,
     "end_time": "2021-04-10T00:16:01.052311",
     "exception": false,
     "start_time": "2021-04-10T00:16:01.035632",
     "status": "completed"
    },
    "tags": []
   },
   "outputs": [],
   "source": []
  }
 ],
 "metadata": {
  "kernelspec": {
   "display_name": "Python 3",
   "language": "python",
   "name": "python3"
  },
  "language_info": {
   "codemirror_mode": {
    "name": "ipython",
    "version": 3
   },
   "file_extension": ".py",
   "mimetype": "text/x-python",
   "name": "python",
   "nbconvert_exporter": "python",
   "pygments_lexer": "ipython3",
   "version": "3.7.9"
  },
  "papermill": {
   "default_parameters": {},
   "duration": 9.834202,
   "end_time": "2021-04-10T00:16:01.681727",
   "environment_variables": {},
   "exception": null,
   "input_path": "__notebook__.ipynb",
   "output_path": "__notebook__.ipynb",
   "parameters": {},
   "start_time": "2021-04-10T00:15:51.847525",
   "version": "2.2.2"
  }
 },
 "nbformat": 4,
 "nbformat_minor": 4
}
