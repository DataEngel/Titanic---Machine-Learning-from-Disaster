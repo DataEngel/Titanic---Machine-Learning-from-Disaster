{
 "cells": [
  {
   "cell_type": "code",
   "execution_count": 1,
   "metadata": {
    "execution": {
     "iopub.execute_input": "2021-04-09T02:56:23.904589Z",
     "iopub.status.busy": "2021-04-09T02:56:23.903905Z",
     "iopub.status.idle": "2021-04-09T02:56:23.910098Z",
     "shell.execute_reply": "2021-04-09T02:56:23.909216Z"
    },
    "papermill": {
     "duration": 0.021887,
     "end_time": "2021-04-09T02:56:23.910345",
     "exception": false,
     "start_time": "2021-04-09T02:56:23.888458",
     "status": "completed"
    },
    "tags": []
   },
   "outputs": [],
   "source": [
    "# import libraries\n",
    "import pandas as pd\n",
    "import matplotlib.pyplot as plt\n",
    "import numpy as np"
   ]
  },
  {
   "cell_type": "code",
   "execution_count": 2,
   "metadata": {
    "execution": {
     "iopub.execute_input": "2021-04-09T02:56:23.930481Z",
     "iopub.status.busy": "2021-04-09T02:56:23.929794Z",
     "iopub.status.idle": "2021-04-09T02:56:23.967154Z",
     "shell.execute_reply": "2021-04-09T02:56:23.966559Z"
    },
    "papermill": {
     "duration": 0.050171,
     "end_time": "2021-04-09T02:56:23.967384",
     "exception": false,
     "start_time": "2021-04-09T02:56:23.917213",
     "status": "completed"
    },
    "tags": []
   },
   "outputs": [],
   "source": [
    "# Import datasets\n",
    "t_train=pd.read_csv('../input/titanic/train.csv')\n",
    "t_test=pd.read_csv('../input/titanic/test.csv')"
   ]
  },
  {
   "cell_type": "code",
   "execution_count": 3,
   "metadata": {
    "execution": {
     "iopub.execute_input": "2021-04-09T02:56:23.990746Z",
     "iopub.status.busy": "2021-04-09T02:56:23.989748Z",
     "iopub.status.idle": "2021-04-09T02:56:23.994356Z",
     "shell.execute_reply": "2021-04-09T02:56:23.994919Z"
    },
    "papermill": {
     "duration": 0.02062,
     "end_time": "2021-04-09T02:56:23.995102",
     "exception": false,
     "start_time": "2021-04-09T02:56:23.974482",
     "status": "completed"
    },
    "tags": []
   },
   "outputs": [],
   "source": [
    "# function for grouped bar chart\n",
    "def grouped_bar_chart(labels,set1,set2):\n",
    "    x = np.arange(len(labels))  # the label locations\n",
    "    width = 0.35  # the width of the bars\n",
    "\n",
    "    fig, ax = plt.subplots()\n",
    "    rects1 = ax.bar(x - width/2, set1, width, label='Dead') # rectangles for the dead\n",
    "    rects2 = ax.bar(x + width/2, set2, width, label='Survived') # rectangles for the survived\n",
    "\n",
    "    ax.set_ylabel('Number of people')\n",
    "    ax.set_xticks(x)\n",
    "    ax.set_xticklabels(labels)\n",
    "    ax.legend()\n",
    "    fig.tight_layout()\n",
    "    plt.show()"
   ]
  },
  {
   "cell_type": "code",
   "execution_count": 4,
   "metadata": {
    "execution": {
     "iopub.execute_input": "2021-04-09T02:56:24.016539Z",
     "iopub.status.busy": "2021-04-09T02:56:24.015832Z",
     "iopub.status.idle": "2021-04-09T02:56:24.052754Z",
     "shell.execute_reply": "2021-04-09T02:56:24.053356Z"
    },
    "papermill": {
     "duration": 0.051234,
     "end_time": "2021-04-09T02:56:24.053561",
     "exception": false,
     "start_time": "2021-04-09T02:56:24.002327",
     "status": "completed"
    },
    "tags": []
   },
   "outputs": [
    {
     "ename": "NameError",
     "evalue": "name 'pass_train' is not defined",
     "output_type": "error",
     "traceback": [
      "\u001b[0;31m---------------------------------------------------------------------------\u001b[0m",
      "\u001b[0;31mNameError\u001b[0m                                 Traceback (most recent call last)",
      "\u001b[0;32m<ipython-input-4-c597f2202651>\u001b[0m in \u001b[0;36m<module>\u001b[0;34m\u001b[0m\n\u001b[1;32m      1\u001b[0m \u001b[0;31m# grouping data by surviving and the class\u001b[0m\u001b[0;34m\u001b[0m\u001b[0;34m\u001b[0m\u001b[0;34m\u001b[0m\u001b[0m\n\u001b[0;32m----> 2\u001b[0;31m \u001b[0mgr\u001b[0m\u001b[0;34m=\u001b[0m\u001b[0mpass_train\u001b[0m\u001b[0;34m[\u001b[0m\u001b[0;34m[\u001b[0m\u001b[0;34m'Survived'\u001b[0m\u001b[0;34m,\u001b[0m\u001b[0;34m'Pclass'\u001b[0m\u001b[0;34m,\u001b[0m\u001b[0;34m'PassengerId'\u001b[0m\u001b[0;34m]\u001b[0m\u001b[0;34m]\u001b[0m\u001b[0;34m.\u001b[0m\u001b[0mgroupby\u001b[0m\u001b[0;34m(\u001b[0m\u001b[0;34m[\u001b[0m\u001b[0;34m'Survived'\u001b[0m\u001b[0;34m,\u001b[0m\u001b[0;34m'Pclass'\u001b[0m\u001b[0;34m]\u001b[0m\u001b[0;34m)\u001b[0m\u001b[0;34m.\u001b[0m\u001b[0mcount\u001b[0m\u001b[0;34m(\u001b[0m\u001b[0;34m)\u001b[0m\u001b[0;34m\u001b[0m\u001b[0;34m\u001b[0m\u001b[0m\n\u001b[0m\u001b[1;32m      3\u001b[0m \u001b[0mgr\u001b[0m\u001b[0;34m=\u001b[0m\u001b[0mgr\u001b[0m\u001b[0;34m.\u001b[0m\u001b[0mreset_index\u001b[0m\u001b[0;34m(\u001b[0m\u001b[0;34m)\u001b[0m\u001b[0;34m\u001b[0m\u001b[0;34m\u001b[0m\u001b[0m\n\u001b[1;32m      4\u001b[0m grouped_bar_chart(['1st class', '2nd class', '3rd class'],\n\u001b[1;32m      5\u001b[0m                   \u001b[0mgr\u001b[0m\u001b[0;34m[\u001b[0m\u001b[0mgr\u001b[0m\u001b[0;34m[\u001b[0m\u001b[0;34m'Survived'\u001b[0m\u001b[0;34m]\u001b[0m\u001b[0;34m==\u001b[0m\u001b[0;36m0\u001b[0m\u001b[0;34m]\u001b[0m\u001b[0;34m[\u001b[0m\u001b[0;34m'PassengerId'\u001b[0m\u001b[0;34m]\u001b[0m\u001b[0;34m,\u001b[0m\u001b[0;34m\u001b[0m\u001b[0;34m\u001b[0m\u001b[0m\n",
      "\u001b[0;31mNameError\u001b[0m: name 'pass_train' is not defined"
     ]
    }
   ],
   "source": [
    "# grouping data by surviving and the class\n",
    "gr=pass_train[['Survived','Pclass','PassengerId']].groupby(['Survived','Pclass']).count()\n",
    "gr=gr.reset_index()\n",
    "grouped_bar_chart(['1st class', '2nd class', '3rd class'],\n",
    "                  gr[gr['Survived']==0]['PassengerId'],\n",
    "                  gr[gr['Survived']==1]['PassengerId'])"
   ]
  },
  {
   "cell_type": "code",
   "execution_count": 5,
   "metadata": {
    "execution": {
     "iopub.execute_input": "2021-04-09T02:56:24.084033Z",
     "iopub.status.busy": "2021-04-09T02:56:24.083346Z",
     "iopub.status.idle": "2021-04-09T02:56:24.093245Z",
     "shell.execute_reply": "2021-04-09T02:56:24.092550Z"
    },
    "papermill": {
     "duration": 0.032086,
     "end_time": "2021-04-09T02:56:24.093392",
     "exception": false,
     "start_time": "2021-04-09T02:56:24.061306",
     "status": "completed"
    },
    "tags": []
   },
   "outputs": [
    {
     "ename": "NameError",
     "evalue": "name 'pass_train' is not defined",
     "output_type": "error",
     "traceback": [
      "\u001b[0;31m---------------------------------------------------------------------------\u001b[0m",
      "\u001b[0;31mNameError\u001b[0m                                 Traceback (most recent call last)",
      "\u001b[0;32m<ipython-input-5-fd2a2c50e1e9>\u001b[0m in \u001b[0;36m<module>\u001b[0;34m\u001b[0m\n\u001b[1;32m      1\u001b[0m \u001b[0;31m# grouping data by surviving and the sex\u001b[0m\u001b[0;34m\u001b[0m\u001b[0;34m\u001b[0m\u001b[0;34m\u001b[0m\u001b[0m\n\u001b[0;32m----> 2\u001b[0;31m \u001b[0mgr\u001b[0m\u001b[0;34m=\u001b[0m\u001b[0mpass_train\u001b[0m\u001b[0;34m[\u001b[0m\u001b[0;34m[\u001b[0m\u001b[0;34m'Survived'\u001b[0m\u001b[0;34m,\u001b[0m\u001b[0;34m'Sex'\u001b[0m\u001b[0;34m,\u001b[0m\u001b[0;34m'PassengerId'\u001b[0m\u001b[0;34m]\u001b[0m\u001b[0;34m]\u001b[0m\u001b[0;34m.\u001b[0m\u001b[0mgroupby\u001b[0m\u001b[0;34m(\u001b[0m\u001b[0;34m[\u001b[0m\u001b[0;34m'Survived'\u001b[0m\u001b[0;34m,\u001b[0m\u001b[0;34m'Sex'\u001b[0m\u001b[0;34m]\u001b[0m\u001b[0;34m)\u001b[0m\u001b[0;34m.\u001b[0m\u001b[0mcount\u001b[0m\u001b[0;34m(\u001b[0m\u001b[0;34m)\u001b[0m\u001b[0;34m\u001b[0m\u001b[0;34m\u001b[0m\u001b[0m\n\u001b[0m\u001b[1;32m      3\u001b[0m \u001b[0mgr\u001b[0m\u001b[0;34m=\u001b[0m\u001b[0mgr\u001b[0m\u001b[0;34m.\u001b[0m\u001b[0mreset_index\u001b[0m\u001b[0;34m(\u001b[0m\u001b[0;34m)\u001b[0m\u001b[0;34m\u001b[0m\u001b[0;34m\u001b[0m\u001b[0m\n\u001b[1;32m      4\u001b[0m grouped_bar_chart(gr[gr['Survived']==0]['Sex'],\n\u001b[1;32m      5\u001b[0m                   \u001b[0mgr\u001b[0m\u001b[0;34m[\u001b[0m\u001b[0mgr\u001b[0m\u001b[0;34m[\u001b[0m\u001b[0;34m'Survived'\u001b[0m\u001b[0;34m]\u001b[0m\u001b[0;34m==\u001b[0m\u001b[0;36m0\u001b[0m\u001b[0;34m]\u001b[0m\u001b[0;34m[\u001b[0m\u001b[0;34m'PassengerId'\u001b[0m\u001b[0;34m]\u001b[0m\u001b[0;34m,\u001b[0m\u001b[0;34m\u001b[0m\u001b[0;34m\u001b[0m\u001b[0m\n",
      "\u001b[0;31mNameError\u001b[0m: name 'pass_train' is not defined"
     ]
    }
   ],
   "source": [
    "# grouping data by surviving and the sex\n",
    "gr=pass_train[['Survived','Sex','PassengerId']].groupby(['Survived','Sex']).count()\n",
    "gr=gr.reset_index()\n",
    "grouped_bar_chart(gr[gr['Survived']==0]['Sex'],\n",
    "                  gr[gr['Survived']==0]['PassengerId'],\n",
    "                  gr[gr['Survived']==1]['PassengerId'])"
   ]
  },
  {
   "cell_type": "code",
   "execution_count": 6,
   "metadata": {
    "execution": {
     "iopub.execute_input": "2021-04-09T02:56:24.123096Z",
     "iopub.status.busy": "2021-04-09T02:56:24.122255Z",
     "iopub.status.idle": "2021-04-09T02:56:24.131580Z",
     "shell.execute_reply": "2021-04-09T02:56:24.130783Z"
    },
    "papermill": {
     "duration": 0.030394,
     "end_time": "2021-04-09T02:56:24.131732",
     "exception": false,
     "start_time": "2021-04-09T02:56:24.101338",
     "status": "completed"
    },
    "tags": []
   },
   "outputs": [
    {
     "ename": "NameError",
     "evalue": "name 'pass_train' is not defined",
     "output_type": "error",
     "traceback": [
      "\u001b[0;31m---------------------------------------------------------------------------\u001b[0m",
      "\u001b[0;31mNameError\u001b[0m                                 Traceback (most recent call last)",
      "\u001b[0;32m<ipython-input-6-6d031b68d0e2>\u001b[0m in \u001b[0;36m<module>\u001b[0;34m\u001b[0m\n\u001b[1;32m      1\u001b[0m \u001b[0;31m# grouping data by surviving and the number of siblings and spouses\u001b[0m\u001b[0;34m\u001b[0m\u001b[0;34m\u001b[0m\u001b[0;34m\u001b[0m\u001b[0m\n\u001b[0;32m----> 2\u001b[0;31m \u001b[0mgr\u001b[0m\u001b[0;34m=\u001b[0m\u001b[0mpass_train\u001b[0m\u001b[0;34m[\u001b[0m\u001b[0;34m[\u001b[0m\u001b[0;34m'Survived'\u001b[0m\u001b[0;34m,\u001b[0m\u001b[0;34m'SibSp'\u001b[0m\u001b[0;34m,\u001b[0m\u001b[0;34m'PassengerId'\u001b[0m\u001b[0;34m]\u001b[0m\u001b[0;34m]\u001b[0m\u001b[0;34m.\u001b[0m\u001b[0mgroupby\u001b[0m\u001b[0;34m(\u001b[0m\u001b[0;34m[\u001b[0m\u001b[0;34m'Survived'\u001b[0m\u001b[0;34m,\u001b[0m\u001b[0;34m'SibSp'\u001b[0m\u001b[0;34m]\u001b[0m\u001b[0;34m)\u001b[0m\u001b[0;34m.\u001b[0m\u001b[0mcount\u001b[0m\u001b[0;34m(\u001b[0m\u001b[0;34m)\u001b[0m\u001b[0;34m\u001b[0m\u001b[0;34m\u001b[0m\u001b[0m\n\u001b[0m\u001b[1;32m      3\u001b[0m \u001b[0mgr\u001b[0m\u001b[0;34m\u001b[0m\u001b[0;34m\u001b[0m\u001b[0m\n",
      "\u001b[0;31mNameError\u001b[0m: name 'pass_train' is not defined"
     ]
    }
   ],
   "source": [
    "# grouping data by surviving and the number of siblings and spouses\n",
    "gr=pass_train[['Survived','SibSp','PassengerId']].groupby(['Survived','SibSp']).count()\n",
    "gr"
   ]
  },
  {
   "cell_type": "code",
   "execution_count": 7,
   "metadata": {
    "execution": {
     "iopub.execute_input": "2021-04-09T02:56:24.164529Z",
     "iopub.status.busy": "2021-04-09T02:56:24.156785Z",
     "iopub.status.idle": "2021-04-09T02:56:24.173921Z",
     "shell.execute_reply": "2021-04-09T02:56:24.174487Z"
    },
    "papermill": {
     "duration": 0.034424,
     "end_time": "2021-04-09T02:56:24.174689",
     "exception": false,
     "start_time": "2021-04-09T02:56:24.140265",
     "status": "completed"
    },
    "tags": []
   },
   "outputs": [
    {
     "ename": "NameError",
     "evalue": "name 'gr' is not defined",
     "output_type": "error",
     "traceback": [
      "\u001b[0;31m---------------------------------------------------------------------------\u001b[0m",
      "\u001b[0;31mNameError\u001b[0m                                 Traceback (most recent call last)",
      "\u001b[0;32m<ipython-input-7-fa453d0d107e>\u001b[0m in \u001b[0;36m<module>\u001b[0;34m\u001b[0m\n\u001b[0;32m----> 1\u001b[0;31m \u001b[0mgr\u001b[0m\u001b[0;34m=\u001b[0m\u001b[0mgr\u001b[0m\u001b[0;34m.\u001b[0m\u001b[0mreset_index\u001b[0m\u001b[0;34m(\u001b[0m\u001b[0;34m)\u001b[0m\u001b[0;34m\u001b[0m\u001b[0;34m\u001b[0m\u001b[0m\n\u001b[0m\u001b[1;32m      2\u001b[0m \u001b[0;31m# The number of groups is different for survived=0 and survived=0. Therefore I add missing rows to create a plot.\u001b[0m\u001b[0;34m\u001b[0m\u001b[0;34m\u001b[0m\u001b[0;34m\u001b[0m\u001b[0m\n\u001b[1;32m      3\u001b[0m \u001b[0;32mfor\u001b[0m \u001b[0mi\u001b[0m \u001b[0;32min\u001b[0m \u001b[0mrange\u001b[0m\u001b[0;34m(\u001b[0m\u001b[0;36m0\u001b[0m\u001b[0;34m,\u001b[0m\u001b[0;36m2\u001b[0m\u001b[0;34m)\u001b[0m\u001b[0;34m:\u001b[0m\u001b[0;34m\u001b[0m\u001b[0;34m\u001b[0m\u001b[0m\n\u001b[1;32m      4\u001b[0m     \u001b[0;32mfor\u001b[0m \u001b[0mj\u001b[0m \u001b[0;32min\u001b[0m \u001b[0mrange\u001b[0m\u001b[0;34m(\u001b[0m\u001b[0;36m1\u001b[0m\u001b[0;34m,\u001b[0m\u001b[0;36m9\u001b[0m\u001b[0;34m)\u001b[0m\u001b[0;34m:\u001b[0m\u001b[0;34m\u001b[0m\u001b[0;34m\u001b[0m\u001b[0m\n\u001b[1;32m      5\u001b[0m         \u001b[0;32mif\u001b[0m \u001b[0mlen\u001b[0m\u001b[0;34m(\u001b[0m\u001b[0mgr\u001b[0m\u001b[0;34m[\u001b[0m\u001b[0;34m(\u001b[0m\u001b[0mgr\u001b[0m\u001b[0;34m[\u001b[0m\u001b[0;34m'Survived'\u001b[0m\u001b[0;34m]\u001b[0m\u001b[0;34m==\u001b[0m\u001b[0mi\u001b[0m\u001b[0;34m)\u001b[0m\u001b[0;34m&\u001b[0m\u001b[0;34m(\u001b[0m\u001b[0mgr\u001b[0m\u001b[0;34m[\u001b[0m\u001b[0;34m'SibSp'\u001b[0m\u001b[0;34m]\u001b[0m\u001b[0;34m==\u001b[0m\u001b[0mj\u001b[0m\u001b[0;34m)\u001b[0m\u001b[0;34m]\u001b[0m\u001b[0;34m)\u001b[0m\u001b[0;34m==\u001b[0m\u001b[0;36m0\u001b[0m\u001b[0;34m:\u001b[0m\u001b[0;34m\u001b[0m\u001b[0;34m\u001b[0m\u001b[0m\n",
      "\u001b[0;31mNameError\u001b[0m: name 'gr' is not defined"
     ]
    }
   ],
   "source": [
    "gr=gr.reset_index()\n",
    "# The number of groups is different for survived=0 and survived=0. Therefore I add missing rows to create a plot.\n",
    "for i in range(0,2):\n",
    "    for j in range(1,9):\n",
    "        if len(gr[(gr['Survived']==i)&(gr['SibSp']==j)])==0:\n",
    "            gr=gr.append({'Survived':i,'SibSp':j,'PassengerId':0},ignore_index=True)\n",
    "gr=gr.sort_values(by=['Survived','SibSp'])\n",
    "grouped_bar_chart(gr[gr['Survived']==0]['SibSp'],\n",
    "                  gr[gr['Survived']==0]['PassengerId'],\n",
    "                  gr[gr['Survived']==1]['PassengerId'])"
   ]
  },
  {
   "cell_type": "code",
   "execution_count": null,
   "metadata": {
    "papermill": {
     "duration": 0.008695,
     "end_time": "2021-04-09T02:56:24.192733",
     "exception": false,
     "start_time": "2021-04-09T02:56:24.184038",
     "status": "completed"
    },
    "tags": []
   },
   "outputs": [],
   "source": []
  }
 ],
 "metadata": {
  "kernelspec": {
   "display_name": "Python 3",
   "language": "python",
   "name": "python3"
  },
  "language_info": {
   "codemirror_mode": {
    "name": "ipython",
    "version": 3
   },
   "file_extension": ".py",
   "mimetype": "text/x-python",
   "name": "python",
   "nbconvert_exporter": "python",
   "pygments_lexer": "ipython3",
   "version": "3.7.9"
  },
  "papermill": {
   "default_parameters": {},
   "duration": 10.406496,
   "end_time": "2021-04-09T02:56:25.813519",
   "environment_variables": {},
   "exception": null,
   "input_path": "__notebook__.ipynb",
   "output_path": "__notebook__.ipynb",
   "parameters": {},
   "start_time": "2021-04-09T02:56:15.407023",
   "version": "2.2.2"
  }
 },
 "nbformat": 4,
 "nbformat_minor": 4
}
